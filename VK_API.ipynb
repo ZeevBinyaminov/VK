{
 "cells": [
  {
   "cell_type": "code",
   "execution_count": 7,
   "metadata": {},
   "outputs": [
    {
     "name": "stdout",
     "output_type": "stream",
     "text": [
      "[(21, 38), (22, 12), (20, 8), (24, 5), (23, 4), (19, 4), (27, 3), (25, 2), (120, 1), (118, 1), (104, 1), (102, 1), (76, 1), (62, 1), (58, 1), (50, 1), (42, 1), (28, 1), (26, 1), (16, 1)]\n"
     ]
    }
   ],
   "source": [
    "import time\n",
    "import vk_api\n",
    "\n",
    "session = vk_api.VkApi()\n",
    "vk = session.get_api()\n",
    "\n",
    "def get_fr_id_list(user_id):\n",
    "    friend_ids =  vk.friends.get(user_id=user_id)['items']\n",
    "    return friend_ids\n",
    "pers_id = int(input())\n",
    "fr_id_lst = get_fr_id_list(pers_id)\n",
    " \n",
    "\n",
    "def get_fr_info(fr_id_lst):\n",
    "    info = []\n",
    "    for id in fr_id_lst:\n",
    "        info.append(vk.users.get(user_id=id, fields='bdate')[0])\n",
    "    return info\n",
    "fr_info = get_fr_info(fr_id_lst)\n",
    "\n",
    "\n",
    "def get_dates_of_birth(fr_info):\n",
    "    dates = []\n",
    "    for info in fr_info:\n",
    "        if 'bdate' in info:\n",
    "            dates.append(info['bdate'])\n",
    "    return dates\n",
    "dates = get_dates_of_birth(fr_info)\n",
    "curr_year = time.localtime().tm_year\n",
    "bd_dates = list(filter(lambda y: len(y) == 3, (map(lambda x: x.split('.'), dates))))\n",
    "bd_years = list(map(lambda x: curr_year - int(x[-1]), bd_dates))\n",
    "bd_distr = sorted([(i, bd_years.count(i)) for i in set(bd_years)], key=lambda x: (x[1], x[0]), reverse=True)\n",
    "\n",
    "print(bd_distr)"
   ]
  },
  {
   "cell_type": "code",
   "execution_count": 5,
   "metadata": {},
   "outputs": [
    {
     "ename": "NameError",
     "evalue": "name 'dates' is not defined",
     "output_type": "error",
     "traceback": [
      "\u001b[1;31m---------------------------------------------------------------------------\u001b[0m",
      "\u001b[1;31mNameError\u001b[0m                                 Traceback (most recent call last)",
      "\u001b[1;32mc:\\Users\\zzbin\\Desktop\\backend_course\\VK_API.ipynb Cell 2'\u001b[0m in \u001b[0;36m<cell line: 1>\u001b[1;34m()\u001b[0m\n\u001b[1;32m----> <a href='vscode-notebook-cell:/c%3A/Users/zzbin/Desktop/backend_course/VK_API.ipynb#ch0000003?line=0'>1</a>\u001b[0m dates\n",
      "\u001b[1;31mNameError\u001b[0m: name 'dates' is not defined"
     ]
    }
   ],
   "source": []
  },
  {
   "cell_type": "code",
   "execution_count": null,
   "metadata": {},
   "outputs": [],
   "source": []
  }
 ],
 "metadata": {
  "kernelspec": {
   "display_name": "Python 3",
   "language": "python",
   "name": "python3"
  },
  "language_info": {
   "codemirror_mode": {
    "name": "ipython",
    "version": 3
   },
   "file_extension": ".py",
   "mimetype": "text/x-python",
   "name": "python",
   "nbconvert_exporter": "python",
   "pygments_lexer": "ipython3",
   "version": "3.9.10"
  }
 },
 "nbformat": 4,
 "nbformat_minor": 4
}
